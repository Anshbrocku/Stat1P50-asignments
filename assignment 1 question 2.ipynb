{
 "cells": [
  {
   "cell_type": "code",
   "execution_count": 2,
   "id": "3679c646",
   "metadata": {},
   "outputs": [
    {
     "name": "stdout",
     "output_type": "stream",
     "text": [
      "{'ansh': 4, 'shah': 4, 'Stat': 4, 'computer': 8, 'science': 7}\n"
     ]
    }
   ],
   "source": [
    "list=['ansh','shah','Stat','computer','science']\n",
    "dict={}\n",
    "def dictionary(name):\n",
    " dict[name]=len(name)\n",
    "loopVariable=len(list)\n",
    "for i in range(0,loopVariable):\n",
    "    dictionary(list[i])\n",
    "print(dict)    \n",
    "  "
   ]
  }
 ],
 "metadata": {
  "kernelspec": {
   "display_name": "Python 3 (ipykernel)",
   "language": "python",
   "name": "python3"
  },
  "language_info": {
   "codemirror_mode": {
    "name": "ipython",
    "version": 3
   },
   "file_extension": ".py",
   "mimetype": "text/x-python",
   "name": "python",
   "nbconvert_exporter": "python",
   "pygments_lexer": "ipython3",
   "version": "3.9.7"
  }
 },
 "nbformat": 4,
 "nbformat_minor": 5
}
