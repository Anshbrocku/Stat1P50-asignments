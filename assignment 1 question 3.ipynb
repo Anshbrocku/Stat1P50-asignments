{
 "cells": [
  {
   "cell_type": "code",
   "execution_count": 1,
   "id": "25e4f7cc",
   "metadata": {},
   "outputs": [
    {
     "name": "stdout",
     "output_type": "stream",
     "text": [
      "15625\n",
      "78125\n",
      "16\n",
      "729\n",
      "43046721\n",
      "1\n",
      "729\n",
      "7\n",
      "625\n",
      "128\n",
      "9\n",
      "729\n",
      "32\n"
     ]
    }
   ],
   "source": [
    "def expo(base,power):\n",
    " return (base**power)\n",
    "list=[[5,6],[5,7],[4,2],[3,6],[9,8],[1,3],[9,3],[7,1],[5,4],[2,7],[9,1],[9,3],[2,5]]\n",
    "lenghtOfList=len(list)\n",
    "for i in range(0,lenghtOfList):\n",
    "    print(expo(list[i][0],list[i][1]))\n",
    "    "
   ]
  }
 ],
 "metadata": {
  "kernelspec": {
   "display_name": "Python 3 (ipykernel)",
   "language": "python",
   "name": "python3"
  },
  "language_info": {
   "codemirror_mode": {
    "name": "ipython",
    "version": 3
   },
   "file_extension": ".py",
   "mimetype": "text/x-python",
   "name": "python",
   "nbconvert_exporter": "python",
   "pygments_lexer": "ipython3",
   "version": "3.9.7"
  }
 },
 "nbformat": 4,
 "nbformat_minor": 5
}
