{
 "cells": [
  {
   "cell_type": "code",
   "execution_count": 11,
   "id": "86e6b98f",
   "metadata": {},
   "outputs": [
    {
     "name": "stdout",
     "output_type": "stream",
     "text": [
      "0.6806459976998086\n",
      "[0.016445523269186246, 0.0736002774287492, 0.1673243513535475, 0.2031889725606678, 0.21574399782157982, 0.2269829913805017, 0.3230151872706717, 0.32931236715969703, 0.33333566558825034, 0.3692160745814058, 0.3994212077710616, 0.5031498401964227, 0.6259930184171486, 0.6702933693910573, 0.6986500012864543, 0.7441431385896221, 0.8661436378675942, 0.8949662989395505, 0.9496245576223541, 0.969744097222715]\n",
      "14\n"
     ]
    }
   ],
   "source": [
    "from random import random\n",
    "l=[random() for i in range(0,20)]\n",
    "x=random()\n",
    "print(x)\n",
    "sortedlist= sorted(l)\n",
    "print(sortedlist)\n",
    "loopvariable=0\n",
    "loopcounter=1\n",
    "comparisonvariable=sortedlist[0]\n",
    "while comparisonvariable<+x:\n",
    "    loopvariable=loopvariable+1\n",
    "    comparisonvariable=sortedlist[loopcounter]\n",
    "    loopcounter=loopcounter+1\n",
    "print(loopvariable)    \n",
    "    "
   ]
  }
 ],
 "metadata": {
  "kernelspec": {
   "display_name": "Python 3 (ipykernel)",
   "language": "python",
   "name": "python3"
  },
  "language_info": {
   "codemirror_mode": {
    "name": "ipython",
    "version": 3
   },
   "file_extension": ".py",
   "mimetype": "text/x-python",
   "name": "python",
   "nbconvert_exporter": "python",
   "pygments_lexer": "ipython3",
   "version": "3.9.7"
  }
 },
 "nbformat": 4,
 "nbformat_minor": 5
}
