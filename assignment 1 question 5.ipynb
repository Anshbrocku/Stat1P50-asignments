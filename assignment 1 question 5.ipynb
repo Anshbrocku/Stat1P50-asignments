{
 "cells": [
  {
   "cell_type": "code",
   "execution_count": 3,
   "id": "74d48ccf",
   "metadata": {},
   "outputs": [
    {
     "data": {
      "text/plain": [
       "87.54325259515572"
      ]
     },
     "execution_count": 3,
     "metadata": {},
     "output_type": "execute_result"
    }
   ],
   "source": [
    "radiiOfCircle1=6\n",
    "radiiOfCircle2=17\n",
    "areaOfcircle1=0\n",
    "areaOfcircle2=0\n",
    "from math import *\n",
    "def area(x,y):\n",
    "  areaOfcircle1=x*x*pi\n",
    "  areaOfcircle2=y*y*pi\n",
    "  if areaOfcircle1>=areaOfcircle2:\n",
    "        return (areaOfcircle1-areaOfcircle2)/areaOfcircle1*100\n",
    "  else:\n",
    "        return (areaOfcircle2-areaOfcircle1)/areaOfcircle2*100\n",
    "area(radiiOfCircle1,radiiOfCircle2)\n",
    "    \n",
    "\n",
    "    \n",
    "\n",
    "    "
   ]
  }
 ],
 "metadata": {
  "kernelspec": {
   "display_name": "Python 3 (ipykernel)",
   "language": "python",
   "name": "python3"
  },
  "language_info": {
   "codemirror_mode": {
    "name": "ipython",
    "version": 3
   },
   "file_extension": ".py",
   "mimetype": "text/x-python",
   "name": "python",
   "nbconvert_exporter": "python",
   "pygments_lexer": "ipython3",
   "version": "3.9.7"
  }
 },
 "nbformat": 4,
 "nbformat_minor": 5
}
