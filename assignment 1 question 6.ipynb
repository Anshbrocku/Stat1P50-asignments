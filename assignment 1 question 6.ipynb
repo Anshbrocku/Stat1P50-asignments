{
 "cells": [
  {
   "cell_type": "code",
   "execution_count": 9,
   "id": "c619834f",
   "metadata": {},
   "outputs": [
    {
     "name": "stdout",
     "output_type": "stream",
     "text": [
      "{0.9907975537197261: 10, 0.14915794213554567: 2, 0.4206169469930576: 3, 0.628387395376302: 5, 0.034256434235358624: 1, 0.507473804327858: 4, 0.9130217189559318: 8, 0.6746892852612151: 6, 0.8050375845746179: 7, 0.9831950582718351: 9}\n"
     ]
    }
   ],
   "source": [
    "from random import *\n",
    "list=[random() for i in range(10)]\n",
    "listlength=len(list)\n",
    "flagvariable=0\n",
    "dict={}\n",
    "def proportion(listelement):\n",
    "    flagvariable=0\n",
    "    for i in range(0,listlength):\n",
    "        if listelement>=list[i]:\n",
    "            flagvariable=flagvariable+1\n",
    "    return flagvariable\n",
    "for i in range(0,listlength):\n",
    "    dict[list[i]]=proportion(list[i])\n",
    "    \n",
    "print(dict)    \n",
    "    \n",
    "        \n",
    "    "
   ]
  }
 ],
 "metadata": {
  "kernelspec": {
   "display_name": "Python 3 (ipykernel)",
   "language": "python",
   "name": "python3"
  },
  "language_info": {
   "codemirror_mode": {
    "name": "ipython",
    "version": 3
   },
   "file_extension": ".py",
   "mimetype": "text/x-python",
   "name": "python",
   "nbconvert_exporter": "python",
   "pygments_lexer": "ipython3",
   "version": "3.9.7"
  }
 },
 "nbformat": 4,
 "nbformat_minor": 5
}
