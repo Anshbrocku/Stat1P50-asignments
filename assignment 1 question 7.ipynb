{
 "cells": [
  {
   "cell_type": "code",
   "execution_count": 82,
   "id": "1fa58aed",
   "metadata": {},
   "outputs": [
    {
     "name": "stdout",
     "output_type": "stream",
     "text": [
      "time: 7 : 19 : 59 am\n"
     ]
    }
   ],
   "source": [
    "hours=0\n",
    "minutes=0\n",
    "seconds=0\n",
    "def time(totalseconds):\n",
    "  if totalseconds>86400:\n",
    "        print('error! try to input seconds within the range 0-86400 only')\n",
    "  elif totalseconds ==86400:\n",
    "        print('Time: 0 : 0 : 0 am')\n",
    "  elif totalseconds<43200:\n",
    "    hours=(int)(totalseconds/3600)\n",
    "    minutes= (int)((totalseconds-hours*3600)/60)\n",
    "    seconds= totalseconds-(hours*3600+minutes*60)\n",
    "    \n",
    "    \n",
    "    print('time:',hours,':',minutes,':',seconds,'am')\n",
    "  else:\n",
    "    hours=(int)(totalseconds/3600)\n",
    "    minutes= (int)((totalseconds-hours*3600)/60)\n",
    "    seconds= totalseconds-(hours*3600+minutes*60)\n",
    "    \n",
    "    \n",
    "    print('time:',hours,':',minutes,':',seconds,'pm')\n",
    "  \n",
    " \n",
    "    \n",
    "  \n",
    "    \n",
    "time(26399)"
   ]
  },
  {
   "cell_type": "code",
   "execution_count": null,
   "id": "eaaf49ff",
   "metadata": {},
   "outputs": [],
   "source": []
  }
 ],
 "metadata": {
  "kernelspec": {
   "display_name": "Python 3 (ipykernel)",
   "language": "python",
   "name": "python3"
  },
  "language_info": {
   "codemirror_mode": {
    "name": "ipython",
    "version": 3
   },
   "file_extension": ".py",
   "mimetype": "text/x-python",
   "name": "python",
   "nbconvert_exporter": "python",
   "pygments_lexer": "ipython3",
   "version": "3.9.7"
  }
 },
 "nbformat": 4,
 "nbformat_minor": 5
}
